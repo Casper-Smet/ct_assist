{
 "cells": [
  {
   "cell_type": "code",
   "execution_count": 1,
   "metadata": {},
   "outputs": [],
   "source": [
    "import json\n",
    "import os\n",
    "import sys\n",
    "import timeit\n",
    "\n",
    "import numpy as np\n",
    "import matplotlib.pyplot as plt\n",
    "from PIL import Image\n",
    "from sklearn.metrics import mean_squared_error\n",
    "\n",
    "sys.path.append(r\"../\")\n",
    "from ct_assist import transform, estimator"
   ]
  },
  {
   "cell_type": "markdown",
   "metadata": {},
   "source": [
    "# Testing for optimal iterations vs. execution time"
   ]
  },
  {
   "cell_type": "code",
   "execution_count": 2,
   "metadata": {},
   "outputs": [],
   "source": [
    "results = []\n",
    "results_time = []\n",
    "begin = 2\n",
    "end = 5\n",
    "time_settings = np.logspace(begin,end,num=end-begin+1,base=10,dtype='int')"
   ]
  },
  {
   "cell_type": "code",
   "execution_count": 3,
   "metadata": {},
   "outputs": [
    {
     "data": {
      "text/plain": [
       "array([   100,   1000,  10000, 100000])"
      ]
     },
     "execution_count": 3,
     "metadata": {},
     "output_type": "execute_result"
    }
   ],
   "source": [
    "time_settings"
   ]
  },
  {
   "cell_type": "code",
   "execution_count": 4,
   "metadata": {},
   "outputs": [],
   "source": [
    "image_coord_dict = dict()\n",
    "image_coord_dict[\"00.jpg\"] = np.array([[1470, 1430], [2333, 1355], [3247, 1781], [1935, 1952]])\n",
    "image_coord_dict[\"01.jpg\"] = np.array([[1495, 1552], [2219, 1589], [1843, 1969], [805, 1875]])\n",
    "image_coord_dict[\"03.jpg\"] = np.array([[1216, 1398], [2215, 1754], [3268, 1530], [2067, 1282]])   \n",
    "\n",
    "def setup_vars():\n",
    "    \"\"\"Loads data for test_transform_image\"\"\"\n",
    "    data_dir = r\"./data/table\"\n",
    "    json_fp = os.path.join(data_dir, \"anno.json\")\n",
    "    arr_fp = os.path.join(data_dir, \"anno.npz\")\n",
    "    with open(json_fp, \"r\") as fp:\n",
    "        mappings = json.load(fp)\n",
    "\n",
    "    with np.load(arr_fp) as arrs:\n",
    "        anno_dict = {img: {\"heads\": arrs[f\"{prefix}heads\"],\n",
    "                           \"feet\": arrs[f\"{prefix}feet\"]}\n",
    "                     for img, prefix in mappings.items()}\n",
    "    \n",
    "    for key, items in anno_dict.items():\n",
    "        if key.endswith(\"02.jpg\"):\n",
    "            continue\n",
    "        else:\n",
    "            image_coords = image_coord_dict[key[-6:]]\n",
    "        # feet and heads have been swapped in annotations\n",
    "        reference = np.array([items[\"feet\"], items[\"heads\"]])\n",
    "        height = 0.095  # m\n",
    "        STD = 0.01  # m\n",
    "        img = Image.open(key)\n",
    "        yield (img, reference, height, STD, image_coords)\n",
    "        \n",
    "params = next(setup_vars())"
   ]
  },
  {
   "cell_type": "markdown",
   "metadata": {},
   "source": [
    "Approximately linear increase "
   ]
  },
  {
   "cell_type": "code",
   "execution_count": 5,
   "metadata": {},
   "outputs": [
    {
     "name": "stdout",
     "output_type": "stream",
     "text": [
      "100 iterations takes approx 0.05526295999999999 seconds\n",
      "1000 iterations takes approx 0.42929458 seconds\n",
      "10000 iterations takes approx 4.42428849 seconds\n",
      "100000 iterations takes approx 46.74610566 seconds\n"
     ]
    }
   ],
   "source": [
    "number = 10\n",
    "\n",
    "for setting in time_settings:\n",
    "    func = lambda: results.append(estimator.area(transform.fit_transform(*params, iters=setting)[:,:2]))\n",
    "    results_time.append(timeit.timeit(func, number=int(number)))\n",
    "    print(f\"{setting} iterations takes approx {results_time[-1] / number} seconds\")"
   ]
  },
  {
   "cell_type": "code",
   "execution_count": 6,
   "metadata": {},
   "outputs": [],
   "source": [
    "# convert to np.array\n",
    "results_time = np.array(results_time)\n",
    "results = np.array(results)"
   ]
  },
  {
   "cell_type": "code",
   "execution_count": 7,
   "metadata": {},
   "outputs": [
    {
     "data": {
      "text/plain": [
       "array([ 0.05526296,  0.42929458,  4.42428849, 46.74610566])"
      ]
     },
     "execution_count": 7,
     "metadata": {},
     "output_type": "execute_result"
    }
   ],
   "source": [
    "results_time / number"
   ]
  },
  {
   "cell_type": "code",
   "execution_count": 8,
   "metadata": {},
   "outputs": [
    {
     "data": {
      "text/plain": [
       "array([1.42820535, 1.81617055, 1.7464144 , 3.64371446, 1.87017567,\n",
       "       2.3106457 , 1.73458589, 2.86760989, 2.30566619, 1.54672078,\n",
       "       1.50875343, 2.04930412, 1.4273007 , 1.61181523, 1.36353118,\n",
       "       1.35870173, 1.5500095 , 1.27506549, 1.29100466, 1.24388681,\n",
       "       1.49094741, 1.43120371, 1.5310597 , 2.06904847, 1.58038377,\n",
       "       1.33096672, 1.64752746, 1.32215532, 1.38349898, 1.48585374,\n",
       "       1.39636865, 1.44072721, 1.4522215 , 1.46277493, 1.51199945,\n",
       "       1.66403486, 1.47945191, 1.4402654 , 0.8985744 , 1.49380919])"
      ]
     },
     "execution_count": 8,
     "metadata": {},
     "output_type": "execute_result"
    }
   ],
   "source": [
    "results"
   ]
  },
  {
   "cell_type": "code",
   "execution_count": 9,
   "metadata": {},
   "outputs": [],
   "source": [
    "y_true = np.repeat(1.33455, results.size)"
   ]
  },
  {
   "cell_type": "code",
   "execution_count": 10,
   "metadata": {},
   "outputs": [
    {
     "name": "stdout",
     "output_type": "stream",
     "text": [
      "1.0237501924359245\n",
      "0.26233555249546087\n",
      "0.2820905151184917\n",
      "0.20809672265883958\n"
     ]
    }
   ],
   "source": [
    "RMSE = []\n",
    "for i in range(0, number * time_settings.size, number):\n",
    "    RMSE.append(mean_squared_error(y_true[:number], results[i:i+number], squared=False))\n",
    "    print(RMSE[-1])\n",
    "    \n",
    "    \n",
    "# mean_squared_error(y_true, results, squared=False)"
   ]
  },
  {
   "cell_type": "code",
   "execution_count": 11,
   "metadata": {},
   "outputs": [
    {
     "data": {
      "image/png": "[encoded data removed]",
      "text/plain": [
       "<Figure size 432x288 with 1 Axes>"
      ]
     },
     "metadata": {
      "needs_background": "light"
     },
     "output_type": "display_data"
    }
   ],
   "source": [
    "plt.scatter(results_time / number, RMSE)\n",
    "plt.plot(results_time / number, RMSE)\n",
    "plt.show()"
   ]
  },
  {
   "cell_type": "markdown",
   "metadata": {},
   "source": [
    "For small scale experiments, 1e4 seems to be the optimal time-performance option. "
   ]
  }
 ],
 "metadata": {
  "kernelspec": {
   "display_name": "Python 3",
   "language": "python",
   "name": "python3"
  },
  "language_info": {
   "codemirror_mode": {
    "name": "ipython",
    "version": 3
   },
   "file_extension": ".py",
   "mimetype": "text/x-python",
   "name": "python",
   "nbconvert_exporter": "python",
   "pygments_lexer": "ipython3",
   "version": "3.7.7"
  }
 },
 "nbformat": 4,
 "nbformat_minor": 4
}
