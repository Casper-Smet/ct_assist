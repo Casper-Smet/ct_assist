{
 "cells": [
  {
   "cell_type": "code",
   "execution_count": 1,
   "metadata": {},
   "outputs": [],
   "source": [
    "import json\n",
    "import os\n",
    "import sys\n",
    "import timeit\n",
    "\n",
    "import numpy as np\n",
    "import matplotlib.pyplot as plt\n",
    "from PIL import Image\n",
    "from sklearn.metrics import mean_squared_error\n",
    "\n",
    "sys.path.append(r\"../\")\n",
    "from AssistanceTransform import transform, estimator"
   ]
  },
  {
   "cell_type": "markdown",
   "metadata": {},
   "source": [
    "# Testing for optimal iterations vs. execution time"
   ]
  },
  {
   "cell_type": "code",
   "execution_count": 2,
   "metadata": {},
   "outputs": [],
   "source": [
    "results = []\n",
    "results_time = []\n",
    "begin = 2\n",
    "end = 5\n",
    "time_settings = np.logspace(begin,end,num=end-begin+1,base=10,dtype='int')"
   ]
  },
  {
   "cell_type": "code",
   "execution_count": 3,
   "metadata": {},
   "outputs": [
    {
     "data": {
      "text/plain": [
       "array([   100,   1000,  10000, 100000])"
      ]
     },
     "execution_count": 3,
     "metadata": {},
     "output_type": "execute_result"
    }
   ],
   "source": [
    "time_settings"
   ]
  },
  {
   "cell_type": "code",
   "execution_count": 4,
   "metadata": {},
   "outputs": [],
   "source": [
    "image_coord_dict = dict()\n",
    "image_coord_dict[\"00.jpg\"] = np.array([[1470, 1430], [2333, 1355], [3247, 1781], [1935, 1952]])\n",
    "image_coord_dict[\"01.jpg\"] = np.array([[1495, 1552], [2219, 1589], [1843, 1969], [805, 1875]])\n",
    "image_coord_dict[\"03.jpg\"] = np.array([[1216, 1398], [2215, 1754], [3268, 1530], [2067, 1282]])   \n",
    "\n",
    "def setup_vars():\n",
    "    \"\"\"Loads data for test_transform_image\"\"\"\n",
    "    data_dir = r\"./data/table\"\n",
    "    json_fp = os.path.join(data_dir, \"anno.json\")\n",
    "    arr_fp = os.path.join(data_dir, \"anno.npz\")\n",
    "    with open(json_fp, \"r\") as fp:\n",
    "        mappings = json.load(fp)\n",
    "\n",
    "    with np.load(arr_fp) as arrs:\n",
    "        anno_dict = {img: {\"heads\": arrs[f\"{prefix}heads\"],\n",
    "                           \"feet\": arrs[f\"{prefix}feet\"]}\n",
    "                     for img, prefix in mappings.items()}\n",
    "    \n",
    "    for key, items in anno_dict.items():\n",
    "        if key.endswith(\"02.jpg\"):\n",
    "            continue\n",
    "        else:\n",
    "            image_coords = image_coord_dict[key[-6:]]\n",
    "        # feet and heads have been swapped in annotations\n",
    "        reference = np.array([items[\"feet\"], items[\"heads\"]])\n",
    "        height = 0.095  # m\n",
    "        STD = 0.01  # m\n",
    "        img = Image.open(key)\n",
    "        yield (img, reference, height, STD, image_coords)\n",
    "        \n",
    "params = next(setup_vars())"
   ]
  },
  {
   "cell_type": "markdown",
   "metadata": {},
   "source": [
    "Approximately linear increase "
   ]
  },
  {
   "cell_type": "code",
   "execution_count": 5,
   "metadata": {},
   "outputs": [
    {
     "name": "stdout",
     "output_type": "stream",
     "text": [
      "100 iterations takes approx 0.05472464000000001 seconds\n",
      "1000 iterations takes approx 0.5274587100000001 seconds\n",
      "10000 iterations takes approx 5.8066341800000005 seconds\n",
      "100000 iterations takes approx 48.103476650000005 seconds\n"
     ]
    }
   ],
   "source": [
    "number = 10\n",
    "\n",
    "for setting in time_settings:\n",
    "    func = lambda: results.append(estimator.area(transform.transform_image(*params, iters=setting)[:,:2]))\n",
    "    results_time.append(timeit.timeit(func, number=int(number)))\n",
    "    print(f\"{setting} iterations takes approx {results_time[-1] / number} seconds\")"
   ]
  },
  {
   "cell_type": "code",
   "execution_count": 6,
   "metadata": {},
   "outputs": [],
   "source": [
    "# convert to np.array\n",
    "results_time = np.array(results_time)\n",
    "results = np.array(results)"
   ]
  },
  {
   "cell_type": "code",
   "execution_count": 7,
   "metadata": {},
   "outputs": [
    {
     "data": {
      "text/plain": [
       "array([ 0.05472464,  0.52745871,  5.80663418, 48.10347665])"
      ]
     },
     "execution_count": 7,
     "metadata": {},
     "output_type": "execute_result"
    }
   ],
   "source": [
    "results_time / number"
   ]
  },
  {
   "cell_type": "code",
   "execution_count": 8,
   "metadata": {},
   "outputs": [
    {
     "data": {
      "text/plain": [
       "array([1.59395163, 2.0706934 , 1.6282009 , 1.20465669, 2.21069967,\n",
       "       2.22648953, 1.38864159, 3.81025158, 1.49234109, 2.81503255,\n",
       "       1.72182072, 1.56169143, 1.47773459, 1.31097936, 2.48980358,\n",
       "       1.01908905, 1.06619647, 1.88533724, 1.08028603, 1.59763924,\n",
       "       1.36441777, 1.50268121, 1.12153794, 1.48105989, 1.46563583,\n",
       "       1.37363178, 1.67119527, 1.38805866, 1.4068433 , 1.50239314,\n",
       "       1.43513308, 1.5292946 , 1.39972717, 1.5724085 , 0.87894861,\n",
       "       1.47065521, 1.36639089, 1.29289772, 1.48820673, 1.50753946])"
      ]
     },
     "execution_count": 8,
     "metadata": {},
     "output_type": "execute_result"
    }
   ],
   "source": [
    "results"
   ]
  },
  {
   "cell_type": "code",
   "execution_count": 9,
   "metadata": {},
   "outputs": [],
   "source": [
    "y_true = np.repeat(1.33455, results.size)"
   ]
  },
  {
   "cell_type": "code",
   "execution_count": 10,
   "metadata": {},
   "outputs": [
    {
     "name": "stdout",
     "output_type": "stream",
     "text": [
      "1.0307397638995301\n",
      "0.465403265626847\n",
      "0.16257343176367495\n",
      "0.197800125391702\n"
     ]
    }
   ],
   "source": [
    "RMSE = []\n",
    "for i in range(0, number * time_settings.size, number):\n",
    "    RMSE.append(mean_squared_error(y_true[:number], results[i:i+number], squared=False))\n",
    "    print(RMSE[-1])\n",
    "    \n",
    "    \n",
    "# mean_squared_error(y_true, results, squared=False)"
   ]
  },
  {
   "cell_type": "code",
   "execution_count": 12,
   "metadata": {},
   "outputs": [
    {
     "data": {
      "image/png": "[encoded data removed]",
      "text/plain": [
       "<Figure size 432x288 with 1 Axes>"
      ]
     },
     "metadata": {
      "needs_background": "light"
     },
     "output_type": "display_data"
    }
   ],
   "source": [
    "plt.scatter(results_time / number, RMSE)\n",
    "plt.plot(results_time / number, RMSE)\n",
    "plt.show()"
   ]
  },
  {
   "cell_type": "markdown",
   "metadata": {},
   "source": [
    "For small scale experiments, 1e4 seems to be the optimal time-performance option. "
   ]
  }
 ],
 "metadata": {
  "kernelspec": {
   "display_name": "Python 3",
   "language": "python",
   "name": "python3"
  },
  "language_info": {
   "codemirror_mode": {
    "name": "ipython",
    "version": 3
   },
   "file_extension": ".py",
   "mimetype": "text/x-python",
   "name": "python",
   "nbconvert_exporter": "python",
   "pygments_lexer": "ipython3",
   "version": "3.7.7"
  }
 },
 "nbformat": 4,
 "nbformat_minor": 4
}
