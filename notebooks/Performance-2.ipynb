{
 "cells": [
  {
   "cell_type": "code",
   "execution_count": null,
   "metadata": {},
   "outputs": [],
   "source": [
    "import sys, json\n",
    "from itertools import groupby\n",
    "sys.path.append(r\"../\")\n",
    "\n",
    "from PIL import Image, ImageDraw\n",
    "from pathlib import Path\n",
    "import numpy as np\n",
    "from tqdm import tqdm\n",
    "from sklearn.metrics import mean_squared_error\n",
    "\n",
    "from detectron2.data import MetadataCatalog\n",
    "import cameratransform as ct\n",
    "\n",
    "import ct_assist as cta\n",
    "from ct_assist import reference_detection as rd\n",
    "from ct_assist import transform as ctf\n",
    "from ct_assist.utils import accuracy\n",
    "\n",
    "import matplotlib.pyplot as plt\n",
    "%matplotlib inline"
   ]
  },
  {
   "cell_type": "code",
   "execution_count": null,
   "metadata": {},
   "outputs": [],
   "source": [
    "data_dir = r\"../../dataset2\"\n",
    "anno_dir = data_dir + \"/annotations\"\n",
    "im_dir = Path(r\"D:\\University\\2020-2021\\Internship\\dataset2\\images\")\n"
   ]
  },
  {
   "cell_type": "code",
   "execution_count": null,
   "metadata": {
    "scrolled": true
   },
   "outputs": [],
   "source": [
    "with open(r\"D:\\University\\2020-2021\\Internship\\dataset2\\annotations\\simulation_properties.json\") as f:\n",
    "    sims = json.load(f)\n",
    "sim = sims[0]  # Only one simulation filed\n",
    "sim.keys()"
   ]
  },
  {
   "cell_type": "code",
   "execution_count": null,
   "metadata": {},
   "outputs": [],
   "source": [
    "with open(r\"D:\\University\\2020-2021\\Internship\\dataset2\\annotations\\images.json\") as f:\n",
    "    imgs = json.load(f)"
   ]
  },
  {
   "cell_type": "code",
   "execution_count": null,
   "metadata": {},
   "outputs": [],
   "source": [
    "def load():\n",
    "    with open(anno_dir + \"/images.json\") as f:\n",
    "        img_lst = json.load(f)\n",
    "\n",
    "    with open(anno_dir + \"/instance_segmentation.json\") as f:\n",
    "        anno_lst = sorted(json.load(f), key=lambda x: x[\"image_id\"])\n",
    "\n",
    "    predictor, cfg = rd.load_model(return_cfg=True)\n",
    "\n",
    "    X = []\n",
    "    Y_test = []\n",
    "    X_area = []\n",
    "    X_cprops = []\n",
    "    Y_area = []\n",
    "\n",
    "    classes = MetadataCatalog.get(cfg.DATASETS.TRAIN[0]).get(\"thing_classes\")\n",
    "    a = 0\n",
    "    for k, g in groupby(tqdm(anno_lst), lambda x: x[\"image_id\"]):\n",
    "        a += 1\n",
    "        record = {\"height\":1080, \"width\":1920}\n",
    "        record[\"image_id\"] = k\n",
    "        record[\"file_name\"] = im_dir / img_lst[k].get(\"file_name\")\n",
    "        img = Image.open(record[\"file_name\"])\n",
    "        arr = np.asarray(img)[...,:3]\n",
    "\n",
    "        pred = predictor(arr)\n",
    "        inst_dict = rd.instances_to_dict(pred, classes)\n",
    "\n",
    "        ref = rd.extract_reference(inst_dict, always_warn=False)\n",
    "        if len(ref) == 0:\n",
    "            continue\n",
    "        if len(ref[0][0]) == 0:\n",
    "            continue\n",
    "        X.append({\"img\": img, \"reference\": [], \"height\": [], \"STD\": [], \"meta_data\": {\"focal_length\": 50, \"image_size\": (1920, 1080), \"sensor_size\": (36, 24)}, \"multi\": True})\n",
    "        Y_test.append([img_lst[k].get(key) for key in [\"roll_deg\", \"tilt_deg\", \"heading_deg\", \"elevation\"]])\n",
    "        for r, h, s in ref:\n",
    "            X[-1][\"reference\"].append(r)\n",
    "            X[-1][\"height\"].append(h)\n",
    "            X[-1][\"STD\"].append(s)\n",
    "\n",
    "        sim_id = img_lst[k].get(\"simulation_id\")\n",
    "        if sim_id == 0.0:\n",
    "            segs = None\n",
    "            for anno in filter(lambda x: x[\"category_id\"] == 0, g):                \n",
    "                segs = anno[\"segmentation\"]\n",
    "\n",
    "            if segs:\n",
    "                frame = img_lst[k].get(\"frame\")\n",
    "                X_area.append(X[-1].copy())\n",
    "                X_area[-1][\"image_coords\"] = [np.array(list(zip(a[::2], a[1::2]))) for a in segs]\n",
    "                Y_area.append(sim[\"area_cm2_per_frame\"][k] / 10_000) \n",
    "                X_cprops.append((Y_test[-1], X[-1][\"meta_data\"], X_area[-1][\"image_coords\"]))\n",
    "    \n",
    "    return X, Y_test, X_area, X_cprops, Y_area\n",
    "\n",
    "X, Y_test, X_area, X_cprops, Y_area = load()"
   ]
  },
  {
   "cell_type": "code",
   "execution_count": null,
   "metadata": {},
   "outputs": [],
   "source": [
    "X_c = X.copy()\n",
    "Y_c = Y_test.copy()"
   ]
  },
  {
   "cell_type": "code",
   "execution_count": null,
   "metadata": {},
   "outputs": [],
   "source": [
    "# Test area with known camera properties\n",
    "def make_cam(roll_deg, tilt_deg, heading_deg, elevation, focal_length, image_size, sensor_size, img_cords):\n",
    "\n",
    "    proj = ct.RectilinearProjection(focallength_mm=focal_length,\n",
    "                                         sensor=sensor_size,\n",
    "                                         image=image_size)\n",
    "    # initialize the camera\n",
    "    cam = ct.Camera(proj, ct.SpatialOrientation(elevation_m=elevation,\n",
    "                                          tilt_deg=tilt_deg,\n",
    "                                          heading_deg=heading_deg,\n",
    "                                          roll_deg=roll_deg\n",
    "                                          ))\n",
    "    \n",
    "    \n",
    "    points = (cam.spaceFromImage(points=x) for x in img_cords)\n",
    "    areas = sum(accuracy.calc_area(poly[:, :2]) for poly in points)\n",
    "    return areas\n",
    "areas = [make_cam(*ext, **inte, img_cords=im) for ext, inte, im in tqdm(X_cprops)]\n",
    "print(areas)\n",
    "mean_squared_error(Y_area, areas)"
   ]
  },
  {
   "cell_type": "code",
   "execution_count": null,
   "metadata": {
    "scrolled": false
   },
   "outputs": [],
   "source": [
    "score2, pred_area = accuracy.area(X_area, Y_area)\n",
    "score2"
   ]
  },
  {
   "cell_type": "code",
   "execution_count": null,
   "metadata": {
    "scrolled": true
   },
   "outputs": [],
   "source": [
    "score, ypred, ytue = accuracy.camera_properties(X_c, Y_c)"
   ]
  },
  {
   "cell_type": "code",
   "execution_count": null,
   "metadata": {},
   "outputs": [],
   "source": [
    "score"
   ]
  },
  {
   "cell_type": "code",
   "execution_count": null,
   "metadata": {},
   "outputs": [],
   "source": [
    "fig, ax = plt.subplots(5, figsize=(15, 15))\n",
    "\n",
    "# for i in [0, 1, 3]:\n",
    "# ax[0].plot(ypred[...,0], label=\"pred\")\n",
    "# ax[0].plot(ytue[..., 0], label=\"true\")\n",
    "\n",
    "ax[0].scatter(range(ytue.shape[0]), ytue[..., 0], label=\"True\")\n",
    "ax[0].scatter(range(ytue.shape[0]), ypred[...,0], label=\"Predicted\")\n",
    "ax[0].set_title(\"Roll degree\")\n",
    "\n",
    "\n",
    "# ax[1].plot(ypred[...,1], label=\"pred\")\n",
    "# ax[1].plot(ytue[..., 1], label=\"true\")\n",
    "ax[1].scatter(range(ytue.shape[0]), ytue[..., 1], label=\"True\")\n",
    "ax[1].scatter(range(ytue.shape[0]), ypred[...,1], label=\"Predicted\")\n",
    "ax[1].set_title(\"Tilt degree\")\n",
    "\n",
    "# ax[2].plot(ypred[...,3], label=\"pred\")\n",
    "# ax[2].plot(ytue[..., 3], label=\"true\")\n",
    "ax[2].scatter(range(ytue.shape[0]), ytue[..., 3], label=\"True\")\n",
    "ax[2].scatter(range(ytue.shape[0]), ypred[...,3], label=\"Predicted\")\n",
    "ax[2].set_title(\"Elevation (m)\")\n",
    "\n",
    "ax[3].set_yscale('log')\n",
    "ax[3].scatter(range(len(X_area)), Y_area, label=\"True\")\n",
    "ax[3].scatter(range(len(X_area)), pred_area, label=\"Predicted\")\n",
    "ax[3].scatter(range(len(X_area)), areas, label=\"Predicted with known camera properties\")\n",
    "ax[3].set_title(\"Area (m$^{2}$) (log-scaled)\")\n",
    "\n",
    "\n",
    "# ax[3].set_yscale('log')\n",
    "ax[4].scatter(range(len(X_area)), Y_area, label=\"True\")\n",
    "ax[4].scatter(range(len(X_area)), pred_area, label=\"Predicted\")\n",
    "ax[4].scatter(range(len(X_area)), areas, label=\"Predicted with known camera properties\")\n",
    "ax[4].set_title(\"Area (m$^{2}$)\")\n",
    "\n",
    "\n",
    "\n",
    "plt.legend()\n",
    "plt.show()\n",
    "    "
   ]
  }
 ],
 "metadata": {
  "kernelspec": {
   "display_name": "Python 3",
   "language": "python",
   "name": "python3"
  },
  "language_info": {
   "codemirror_mode": {
    "name": "ipython",
    "version": 3
   },
   "file_extension": ".py",
   "mimetype": "text/x-python",
   "name": "python",
   "nbconvert_exporter": "python",
   "pygments_lexer": "ipython3",
   "version": "3.7.7"
  }
 },
 "nbformat": 4,
 "nbformat_minor": 4
}
